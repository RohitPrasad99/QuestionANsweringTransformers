{
  "nbformat": 4,
  "nbformat_minor": 0,
  "metadata": {
    "colab": {
      "name": "QA_Tranformers_Using_Glove",
      "provenance": [],
      "collapsed_sections": []
    },
    "kernelspec": {
      "name": "python3",
      "display_name": "Python 3"
    },
    "language_info": {
      "name": "python"
    },
    "accelerator": "GPU"
  },
  "cells": [
    {
      "cell_type": "markdown",
      "source": [
        "# This Script Tests the QAT 1 ad QAT 2 Tranformer using the Glove embedding for the input data"
      ],
      "metadata": {
        "id": "OUhMGZTUm9TV"
      }
    },
    {
      "cell_type": "code",
      "execution_count": 1,
      "metadata": {
        "id": "iB5CJB5TTOch"
      },
      "outputs": [],
      "source": [
        "import pandas as pd\n",
        "import numpy as np\n",
        "import torchtext\n",
        "import torch\n",
        "from torch import nn\n",
        "import torch.nn.functional as F\n",
        "import spacy\n",
        "import pickle\n",
        "nlp = spacy.load('en')\n",
        "import os"
      ]
    },
    {
      "cell_type": "code",
      "source": [
        "from google.colab import drive\n",
        "drive.mount('/content/drive')"
      ],
      "metadata": {
        "colab": {
          "base_uri": "https://localhost:8080/"
        },
        "id": "gu5MkrYKebwx",
        "outputId": "282e4ed8-c970-461e-ecf6-8e0db4d9adf7"
      },
      "execution_count": 2,
      "outputs": [
        {
          "output_type": "stream",
          "name": "stdout",
          "text": [
            "Mounted at /content/drive\n"
          ]
        }
      ]
    },
    {
      "cell_type": "code",
      "source": [
        "os.chdir('/content/drive/MyDrive/Data2')"
      ],
      "metadata": {
        "id": "SXqVwHIgTTto"
      },
      "execution_count": 3,
      "outputs": []
    },
    {
      "cell_type": "markdown",
      "source": [
        "# Preprocessing \n",
        "## making weight matrices and creating embeddings"
      ],
      "metadata": {
        "id": "e7snGsNRl7uw"
      }
    },
    {
      "cell_type": "code",
      "source": [
        "def load_json(path):\n",
        "    '''\n",
        "    Loads the JSON file of the Squad dataset.\n",
        "    Returns the json object of the dataset.\n",
        "    '''\n",
        "    with open(path, 'r') as f:\n",
        "        data = json.load(f)\n",
        "        \n",
        "    print(\"Length of data: \", len(data['data']))\n",
        "    print(\"Data Keys: \", data['data'][0].keys())\n",
        "    print(\"Title: \", data['data'][0]['title'])\n",
        "    \n",
        "    return data\n",
        "\n",
        "\n",
        "\n",
        "\n",
        "def parse_data(data:dict)->list:\n",
        "    '''\n",
        "    Parses the JSON file of Squad dataset by looping through the\n",
        "    keys and values and returns a list of dictionaries with\n",
        "    context, query and label triplets being the keys of each dict.\n",
        "    '''\n",
        "    data = data['data']\n",
        "    qa_list = []\n",
        "\n",
        "    for paragraphs in data:\n",
        "\n",
        "        for para in paragraphs['paragraphs']:\n",
        "            context = para['context']\n",
        "\n",
        "            for qa in para['qas']:\n",
        "                \n",
        "                id = qa['id']\n",
        "                question = qa['question']\n",
        "                \n",
        "                for ans in qa['answers']:\n",
        "                    answer = ans['text']\n",
        "                    ans_start = ans['answer_start']\n",
        "                    ans_end = ans_start + len(answer)\n",
        "                    \n",
        "                    qa_dict = {}\n",
        "                    qa_dict['id'] = id\n",
        "                    qa_dict['context'] = context\n",
        "                    qa_dict['question'] = question\n",
        "                    qa_dict['label'] = [ans_start, ans_end]\n",
        "\n",
        "                    qa_dict['answer'] = answer\n",
        "                    qa_list.append(qa_dict)    \n",
        "\n",
        "    \n",
        "    return qa_list\n",
        "\n",
        "\n",
        "\n",
        "def filter_large_examples(df):\n",
        "    '''\n",
        "    Returns ids of examples where context lengths, query lengths and answer lengths are\n",
        "    above a particular threshold. These ids can then be dropped from the dataframe. \n",
        "    This is explicitly mentioned in QANet but can be done for other models as well.\n",
        "    '''\n",
        "    \n",
        "    ctx_lens = []\n",
        "    query_lens = []\n",
        "    ans_lens = []\n",
        "    for index, row in df.iterrows():\n",
        "        ctx_tokens = [w.text for w in nlp(row.context, disable=['parser','ner','tagger'])]\n",
        "        if len(ctx_tokens)>400:\n",
        "            ctx_lens.append(row.name)\n",
        "\n",
        "        query_tokens = [w.text for w in nlp(row.question, disable=['parser','tagger','ner'])]\n",
        "        if len(query_tokens)>50:\n",
        "            query_lens.append(row.name)\n",
        "\n",
        "        ans_tokens = [w.text for w in nlp(row.answer, disable=['parser','tagger','ner'])]\n",
        "        if len(ans_tokens)>30:\n",
        "            ans_lens.append(row.name)\n",
        "\n",
        "        assert row.name == index\n",
        "    \n",
        "    return set(ans_lens + ctx_lens + query_lens)\n",
        "\n",
        "\n",
        "def gather_text_for_vocab(dfs:list):\n",
        "    '''\n",
        "    Gathers text from contexts and questions to build a vocabulary.\n",
        "    \n",
        "    :param dfs: list of dataframes of SQUAD dataset.\n",
        "    :returns: list of contexts and questions\n",
        "    '''\n",
        "    \n",
        "    text = []\n",
        "    total = 0\n",
        "    for df in dfs:\n",
        "        unique_contexts = list(df.passage.unique())\n",
        "        unique_questions = list(df.question.unique())\n",
        "        total += df.passage.nunique() + df.question.nunique()\n",
        "        text.extend(unique_contexts + unique_questions)\n",
        "    \n",
        "    assert len(text) == total\n",
        "    \n",
        "    return text\n",
        "\n",
        "\n",
        "\n",
        "\n",
        "def build_word_vocab(vocab_text):\n",
        "    '''\n",
        "    Builds a word-level vocabulary from the given text.\n",
        "    \n",
        "    :param list vocab_text: list of contexts and questions\n",
        "    :returns \n",
        "        dict word2idx: word to index mapping of words\n",
        "        dict idx2word: integer to word mapping\n",
        "        list word_vocab: list of words sorted by frequency\n",
        "    '''\n",
        "    \n",
        "    \n",
        "    words = []\n",
        "    for sent in vocab_text:\n",
        "        for word in nlp(sent, disable=['parser','tagger','ner']):\n",
        "            words.append(word.text)\n",
        "\n",
        "    word_counter = Counter(words)\n",
        "    word_vocab = sorted(word_counter, key=word_counter.get, reverse=True)\n",
        "    print(f\"raw-vocab: {len(word_vocab)}\")\n",
        "    word_vocab.insert(0, '<unk>')\n",
        "    word_vocab.insert(1, '<pad>')\n",
        "    print(f\"vocab-length: {len(word_vocab)}\")\n",
        "    word2idx = {word:idx for idx, word in enumerate(word_vocab)}\n",
        "    print(f\"word2idx-length: {len(word2idx)}\")\n",
        "    idx2word = {v:k for k,v in word2idx.items()}\n",
        "    \n",
        "    \n",
        "    return word2idx, idx2word, word_vocab\n",
        "\n",
        "\n",
        "\n",
        "\n",
        "\n",
        "def build_char_vocab(vocab_text):\n",
        "    '''\n",
        "    Builds a character-level vocabulary from the given text.\n",
        "    \n",
        "    :param list vocab_text: list of contexts and questions\n",
        "    :returns \n",
        "        dict char2idx: character to index mapping of words\n",
        "        list char_vocab: list of characters sorted by frequency\n",
        "    '''\n",
        "    \n",
        "    chars = []\n",
        "    for sent in vocab_text:\n",
        "        for ch in sent:\n",
        "            chars.append(ch)\n",
        "\n",
        "    char_counter = Counter(chars)\n",
        "    char_vocab = sorted(char_counter, key=char_counter.get, reverse=True)\n",
        "    print(f\"raw-char-vocab: {len(char_vocab)}\")\n",
        "    high_freq_char = [char for char, count in char_counter.items() if count>=20]\n",
        "    char_vocab = list(set(char_vocab).intersection(set(high_freq_char)))\n",
        "    print(f\"char-vocab-intersect: {len(char_vocab)}\")\n",
        "    char_vocab.insert(0,'<unk>')\n",
        "    char_vocab.insert(1,'<pad>')\n",
        "    char2idx = {char:idx for idx, char in enumerate(char_vocab)}\n",
        "    print(f\"char2idx-length: {len(char2idx)}\")\n",
        "    \n",
        "    return char2idx, char_vocab\n",
        "\n",
        "\n",
        "\n",
        "def context_to_ids(text, word2idx):\n",
        "    '''\n",
        "    Converts context text to their respective ids by mapping each word\n",
        "    using word2idx. Input text is tokenized using spacy tokenizer first.\n",
        "    \n",
        "    :param str text: context text to be converted\n",
        "    :param dict word2idx: word to id mapping\n",
        "\n",
        "    :returns list context_ids: list of mapped ids\n",
        "    \n",
        "    :raises assertion error: sanity check\n",
        "    \n",
        "    '''\n",
        "    \n",
        "    context_tokens = [w.text for w in nlp(text, disable=['parser','tagger','ner'])]\n",
        "    context_ids = [word2idx[word] for word in context_tokens]\n",
        "    \n",
        "    assert len(context_ids) == len(context_tokens)\n",
        "    return context_ids\n",
        "\n",
        "\n",
        "\n",
        "    \n",
        "def question_to_ids(text, word2idx):\n",
        "    '''\n",
        "    Converts question text to their respective ids by mapping each word\n",
        "    using word2idx. Input text is tokenized using spacy tokenizer first.\n",
        "    \n",
        "    :param str text: question text to be converted\n",
        "    :param dict word2idx: word to id mapping\n",
        "    :returns list context_ids: list of mapped ids\n",
        "    \n",
        "    :raises assertion error: sanity check\n",
        "    \n",
        "    '''\n",
        "    \n",
        "    question_tokens = [w.text for w in nlp(text, disable=['parser','tagger','ner'])]\n",
        "    question_ids = [word2idx[word] for word in question_tokens]\n",
        "    \n",
        "    assert len(question_ids) == len(question_tokens)\n",
        "    return question_ids\n",
        "    \n",
        "\n",
        "\n",
        "    \n",
        "def test_indices(df, idx2word):\n",
        "    '''\n",
        "    Performs the tests mentioned above. This method also gets the start and end of the answers\n",
        "    with respect to the context_ids for each example.\n",
        "    \n",
        "    :param dataframe df: SQUAD df\n",
        "    :param dict idx2word: inverse mapping of token ids to words\n",
        "    :returns\n",
        "        list start_value_error: example idx where the start idx is not found in the start spans\n",
        "                                of the text\n",
        "        list end_value_error: example idx where the end idx is not found in the end spans\n",
        "                              of the text\n",
        "        list assert_error: examples that fail assertion errors. A majority are due to the above errors\n",
        "        \n",
        "    '''\n",
        "\n",
        "    start_value_error = []\n",
        "    end_value_error = []\n",
        "    assert_error = []\n",
        "    for index, row in df.iterrows():\n",
        "        \n",
        "        context_span  = [(word.idx, word.idx + len(word.text)) \n",
        "                         for word in nlp(row['passage'], disable=['parser','tagger','ner'])]\n",
        "\n",
        "        starts, ends = zip(*context_span)\n",
        "\n",
        "        answer_start, answer_end = row['label']\n",
        "\n",
        "        try:\n",
        "            start_idx = starts.index(answer_start)\n",
        "        except:\n",
        "            start_value_error.append(index)\n",
        "        try:\n",
        "            end_idx  = ends.index(answer_end)\n",
        "        except:\n",
        "            end_value_error.append(index)\n",
        "\n",
        "\n",
        "    return start_value_error, end_value_error, assert_error\n",
        "\n",
        "\n",
        "\n",
        "def get_error_indices(df, idx2word):\n",
        "    \n",
        "    start_value_error, end_value_error, assert_error = test_indices(df, idx2word)\n",
        "    err_idx = start_value_error + end_value_error + assert_error\n",
        "    err_idx = set(err_idx)\n",
        "    print(f\"Number of error indices: {len(err_idx)}\")\n",
        "    \n",
        "    return err_idx\n",
        "\n",
        "\n",
        "\n",
        "def index_answer(row, idx2word):\n",
        "    '''\n",
        "    Takes in a row of the dataframe or one training example and\n",
        "    returns a tuple of start and end positions of answer by calculating \n",
        "    spans.\n",
        "    '''\n",
        "    \n",
        "    context_span = [(word.idx, word.idx + len(word.text)) for word in nlp(row.context, disable=['parser','tagger','ner'])]\n",
        "    starts, ends = zip(*context_span)\n",
        "    \n",
        "    answer_start, answer_end = row.label\n",
        "    start_idx = starts.index(answer_start)\n",
        " \n",
        "    end_idx  = ends.index(answer_end)\n",
        "    \n",
        "    ans_toks = [w.text for w in nlp(row.answer,disable=['parser','tagger','ner'])]\n",
        "    ans_start = ans_toks[0]\n",
        "    ans_end = ans_toks[-1]\n",
        "    assert idx2word[row.context_ids[start_idx]] == ans_start\n",
        "    assert idx2word[row.context_ids[end_idx]] == ans_end\n",
        "    \n",
        "    return [start_idx, end_idx]"
      ],
      "metadata": {
        "id": "MQEWoCoJTVzC"
      },
      "execution_count": null,
      "outputs": []
    },
    {
      "cell_type": "code",
      "source": [
        "train_df  = pd.read_json(\"train.jsonl\", lines=True)\n",
        "valid_df  = pd.read_json(\"dev.jsonl\", lines=True)\n",
        "train_df.columns,valid_df.columns"
      ],
      "metadata": {
        "id": "n4WIqz9XrWbI",
        "colab": {
          "base_uri": "https://localhost:8080/"
        },
        "outputId": "45420020-d676-46cc-d826-6cd613074aec"
      },
      "execution_count": null,
      "outputs": [
        {
          "output_type": "execute_result",
          "data": {
            "text/plain": [
              "(Index(['question', 'title', 'answer', 'passage'], dtype='object'),\n",
              " Index(['question', 'title', 'answer', 'passage'], dtype='object'))"
            ]
          },
          "metadata": {},
          "execution_count": 28
        }
      ]
    },
    {
      "cell_type": "code",
      "source": [
        "def normalize_spaces(text):\n",
        "    '''\n",
        "    Removes extra white spaces from the context.\n",
        "    '''\n",
        "    text = re.sub(r'\\s', ' ', text)\n",
        "    return text\n",
        "\n",
        "train_df.passage = train_df.passage.apply(normalize_spaces)\n",
        "valid_df.passage = valid_df.passage.apply(normalize_spaces)"
      ],
      "metadata": {
        "id": "1Fh5iK_eTg3d"
      },
      "execution_count": null,
      "outputs": []
    },
    {
      "cell_type": "code",
      "source": [
        "vocab_text = gather_text_for_vocab([train_df, valid_df, test_df])\n",
        "print(\"Number of sentences in dataset: \", len(vocab_text))"
      ],
      "metadata": {
        "colab": {
          "base_uri": "https://localhost:8080/"
        },
        "id": "OAar17sKTkNq",
        "outputId": "7a44f188-0ce2-487b-a019-cd5f8f15f1dc"
      },
      "execution_count": null,
      "outputs": [
        {
          "output_type": "stream",
          "name": "stdout",
          "text": [
            "Number of sentences in dataset:  29730\n"
          ]
        }
      ]
    },
    {
      "cell_type": "code",
      "source": [
        "%time word2idx, idx2word, word_vocab = build_word_vocab(vocab_text)"
      ],
      "metadata": {
        "colab": {
          "base_uri": "https://localhost:8080/"
        },
        "id": "SFPJYtW4T4Na",
        "outputId": "03cb90e0-7013-406b-f30f-3bacf799eab0"
      },
      "execution_count": null,
      "outputs": [
        {
          "output_type": "stream",
          "name": "stdout",
          "text": [
            "raw-vocab: 67984\n",
            "vocab-length: 67986\n",
            "word2idx-length: 67986\n",
            "CPU times: user 17 s, sys: 235 ms, total: 17.3 s\n",
            "Wall time: 17.3 s\n"
          ]
        }
      ]
    },
    {
      "cell_type": "code",
      "source": [
        "%time train_df['context_ids'] = train_df.passage.apply(context_to_ids, word2idx=word2idx)\n",
        "%time valid_df['context_ids'] = valid_df.passage.apply(context_to_ids, word2idx=word2idx)\n",
        "\n",
        "%time train_df['question_ids'] = train_df.question.apply(question_to_ids,  word2idx=word2idx)\n",
        "%time valid_df['question_ids'] = valid_df.question.apply(question_to_ids,  word2idx=word2idx)"
      ],
      "metadata": {
        "colab": {
          "base_uri": "https://localhost:8080/"
        },
        "id": "-sMQsnKOT6gY",
        "outputId": "eabdd60a-b8eb-4810-ef2a-f360fe9790e9"
      },
      "execution_count": null,
      "outputs": [
        {
          "output_type": "stream",
          "name": "stdout",
          "text": [
            "CPU times: user 9 s, sys: 53.5 ms, total: 9.05 s\n",
            "Wall time: 9.06 s\n",
            "CPU times: user 3.29 s, sys: 11.7 ms, total: 3.3 s\n",
            "Wall time: 3.3 s\n",
            "CPU times: user 1.4 s, sys: 13.7 ms, total: 1.41 s\n",
            "Wall time: 1.41 s\n",
            "CPU times: user 490 ms, sys: 5.3 ms, total: 495 ms\n",
            "Wall time: 494 ms\n"
          ]
        }
      ]
    },
    {
      "cell_type": "code",
      "source": [
        "import pickle\n",
        "with open('drqastoi.pickle','wb') as handle:\n",
        "    pickle.dump(word2idx, handle)\n",
        "    \n",
        "train_df.to_pickle('drqatrain.pkl')\n",
        "valid_df.to_pickle('drqavalid.pkl')"
      ],
      "metadata": {
        "id": "aC8m9HLpUEDd"
      },
      "execution_count": null,
      "outputs": []
    },
    {
      "cell_type": "code",
      "source": [
        "def create_glove_matrix():\n",
        "    '''\n",
        "    Parses the glove word vectors text file and returns a dictionary with the words as\n",
        "    keys and their respective pretrained word vectors as values.\n",
        "\n",
        "    '''\n",
        "    glove_dict = {}\n",
        "    with open(\"glove.42B.300d.txt\", \"r\", encoding=\"utf-8\") as f:\n",
        "        for line in f:\n",
        "            values = line.split(' ')\n",
        "            word = values[0]\n",
        "            vector = np.asarray(values[1:], dtype=\"float32\")\n",
        "            glove_dict[word] = vector\n",
        "\n",
        "    f.close()\n",
        "    \n",
        "    return glove_dict"
      ],
      "metadata": {
        "id": "5eWubo9zUc3X"
      },
      "execution_count": null,
      "outputs": []
    },
    {
      "cell_type": "code",
      "source": [
        "glove_dict = create_glove_matrix()"
      ],
      "metadata": {
        "id": "aujExnMyUjOP"
      },
      "execution_count": null,
      "outputs": []
    },
    {
      "cell_type": "code",
      "source": [
        "def create_word_embedding(glove_dict, word_vocab):\n",
        "    '''\n",
        "    Creates a weight matrix of the words that are common in the GloVe vocab and\n",
        "    the dataset's vocab. Initializes OOV words with a zero vector.\n",
        "    '''\n",
        "    weights_matrix = np.zeros((len(word_vocab), 300))\n",
        "    words_found = 0\n",
        "    for i, word in enumerate(word_vocab):\n",
        "        try:\n",
        "            weights_matrix[i] = glove_dict[word]\n",
        "            words_found += 1\n",
        "        except:\n",
        "            pass\n",
        "    return weights_matrix, words_found"
      ],
      "metadata": {
        "id": "lAeWrsRnUl6P"
      },
      "execution_count": null,
      "outputs": []
    },
    {
      "cell_type": "code",
      "source": [
        "weights_matrix, words_found = create_word_embedding(glove_dict, word_vocab)"
      ],
      "metadata": {
        "id": "C_km9qDRUnnL"
      },
      "execution_count": null,
      "outputs": []
    },
    {
      "cell_type": "code",
      "source": [
        "np.save('drqaglove_vt.npy',weights_matrix)"
      ],
      "metadata": {
        "id": "CgGVJshgUrQb"
      },
      "execution_count": null,
      "outputs": []
    },
    {
      "cell_type": "code",
      "source": [
        "with open('idx2word.pickle','wb') as handle:\n",
        "    pickle.dump(idx2word, handle)"
      ],
      "metadata": {
        "id": "NH7rvac6UyJF"
      },
      "execution_count": null,
      "outputs": []
    },
    {
      "cell_type": "code",
      "source": [
        "class SquadDataset:\n",
        "    '''\n",
        "    -Divides the dataframe in batches.\n",
        "    -Pads the contexts and questions dynamically for each batch by padding \n",
        "     the examples to the maximum-length sequence in that batch.\n",
        "    -Calculates masks for context and question.\n",
        "    -Calculates spans for contexts.\n",
        "    '''\n",
        "    \n",
        "    def __init__(self, data, batch_size, max_context_len, max_question_len):\n",
        "        \n",
        "        self.batch_size = batch_size\n",
        "        data = [data[i:i+self.batch_size] for i in range(0, len(data), self.batch_size)]\n",
        "        self.data = data\n",
        "        self.max_context_len = max_context_len\n",
        "        self.max_question_len = max_question_len\n",
        "    \n",
        "    def get_span(self, text):\n",
        "        \n",
        "        text = nlp(text, disable=['parser','tagger','ner'])\n",
        "        span = [(w.idx, w.idx+len(w.text)) for w in text]\n",
        "\n",
        "        return span\n",
        "\n",
        "    def __len__(self):\n",
        "        return len(self.data)\n",
        "    \n",
        "    def __iter__(self):\n",
        "        '''\n",
        "        Creates batches of data and yields them.\n",
        "        \n",
        "        Each yield comprises of:\n",
        "        :padded_context: padded tensor of contexts for each batch \n",
        "        :padded_question: padded tensor of questions for each batch \n",
        "        :context_mask & question_mask: zero-mask for question and context\n",
        "        :label: start and end index wrt context_ids\n",
        "        :context_text,answer_text: used while validation to calculate metrics\n",
        "        :context_spans: spans of context text\n",
        "        :ids: question_ids used in evaluation\n",
        "        '''\n",
        "        \n",
        "        for batch in self.data:\n",
        "                            \n",
        "            spans = []\n",
        "            context_text = []\n",
        "            answer_text = []\n",
        "            \n",
        "            padded_context = torch.LongTensor(len(batch), self.max_context_len).fill_(1)\n",
        "            \n",
        "            # for ctx in batch.context:\n",
        "            #     context_text.append(ctx)\n",
        "            #     spans.append(self.get_span(ctx))\n",
        "            \n",
        "            for ans in batch.answer:\n",
        "                answer_text.append(ans)\n",
        "                \n",
        "            for i, ctx in enumerate(batch.context_ids):\n",
        "                padded_context[i, :len(ctx)] = torch.LongTensor(ctx)\n",
        "            \n",
        "            padded_question = torch.LongTensor(len(batch), self.max_question_len).fill_(1)\n",
        "            \n",
        "            for i, ques in enumerate(batch.question_ids):\n",
        "                padded_question[i,: len(ques)] = torch.LongTensor(ques)\n",
        "                \n",
        "            \n",
        "            # label = torch.LongTensor(list(batch.label_idx))\n",
        "            context_mask = torch.eq(padded_context, 1)\n",
        "            question_mask = torch.eq(padded_question, 1)\n",
        "            answer_text = torch.as_tensor(answer_text).long()\n",
        "            context_text = torch.as_tensor(context_text)\n",
        "            # ids = list(batch.id)  \n",
        "            \n",
        "            yield (padded_context, padded_question, context_mask, \n",
        "                   question_mask, answer_text, context_text)\n"
      ],
      "metadata": {
        "id": "YKjXH0CyUIcn"
      },
      "execution_count": 4,
      "outputs": []
    },
    {
      "cell_type": "code",
      "source": [
        "train_df = pd.read_pickle('drqatrain.pkl')\n",
        "valid_df = pd.read_pickle('drqavalid.pkl')\n",
        "weights_matrix = np.load(\"drqaglove_vt.npy\")\n",
        "with open(\"drqastoi.pickle\",\"rb\") as fle:\n",
        "  word2idx = pickle.load(fle)"
      ],
      "metadata": {
        "id": "VjExPShcUzwW"
      },
      "execution_count": 5,
      "outputs": []
    },
    {
      "cell_type": "code",
      "source": [
        "max_passage_len = train_df['context_ids'].apply(lambda x: len(x)).max()\n",
        "max_passage_len = max(max_passage_len, valid_df['context_ids'].apply(lambda x: len(x)).max())\n",
        "max_question_len = train_df['question_ids'].apply(lambda x: len(x)).max()\n",
        "max_question_len = max(max_question_len, valid_df['question_ids'].apply(lambda x: len(x)).max())\n",
        "print(max_passage_len, max_question_len)"
      ],
      "metadata": {
        "colab": {
          "base_uri": "https://localhost:8080/"
        },
        "id": "D1nYH4D69JJ1",
        "outputId": "00b0903c-ba68-4da4-9b62-dc429b1ad3cf"
      },
      "execution_count": 6,
      "outputs": [
        {
          "output_type": "stream",
          "name": "stdout",
          "text": [
            "967 21\n"
          ]
        }
      ]
    },
    {
      "cell_type": "code",
      "source": [
        "train_df = train_df.iloc[:4096]\n",
        "test_df = valid_df.iloc[256:512]\n",
        "valid_df = valid_df.iloc[:256]\n",
        "test_df.shape"
      ],
      "metadata": {
        "colab": {
          "base_uri": "https://localhost:8080/"
        },
        "id": "T3eCpB7AjeiB",
        "outputId": "9c0825ea-746f-4cab-ca9c-23c3e00953d6"
      },
      "execution_count": 7,
      "outputs": [
        {
          "output_type": "execute_result",
          "data": {
            "text/plain": [
              "(256, 6)"
            ]
          },
          "metadata": {},
          "execution_count": 7
        }
      ]
    },
    {
      "cell_type": "code",
      "source": [
        "train_dataset = SquadDataset(train_df, 16, max_passage_len, max_question_len)\n",
        "len(train_dataset)"
      ],
      "metadata": {
        "id": "Tru5A5BbUPIo",
        "colab": {
          "base_uri": "https://localhost:8080/"
        },
        "outputId": "33efe653-43e8-43d8-fa19-f94a66a0d67c"
      },
      "execution_count": 8,
      "outputs": [
        {
          "output_type": "execute_result",
          "data": {
            "text/plain": [
              "256"
            ]
          },
          "metadata": {},
          "execution_count": 8
        }
      ]
    },
    {
      "cell_type": "code",
      "source": [
        "valid_dataset = SquadDataset(valid_df, 16, max_passage_len, max_question_len)\n",
        "test_dataset = SquadDataset(test_df, 16, max_passage_len, max_question_len)\n",
        "print(test_df.shape)"
      ],
      "metadata": {
        "id": "DWY_TEOIURUr",
        "colab": {
          "base_uri": "https://localhost:8080/"
        },
        "outputId": "12bf2ed3-40b7-4ce7-a1a5-fbca597aea21"
      },
      "execution_count": 9,
      "outputs": [
        {
          "output_type": "stream",
          "name": "stdout",
          "text": [
            "(256, 6)\n"
          ]
        }
      ]
    },
    {
      "cell_type": "code",
      "source": [
        "a = next(iter(train_dataset))"
      ],
      "metadata": {
        "id": "gnpi0hRKUSpV"
      },
      "execution_count": 10,
      "outputs": []
    },
    {
      "cell_type": "code",
      "source": [
        "a[0].shape, a[1].shape, a[2].shape, a[3].shape, a[4].shape"
      ],
      "metadata": {
        "colab": {
          "base_uri": "https://localhost:8080/"
        },
        "id": "adGAUWIbUX4f",
        "outputId": "7b67285b-8ff8-4e6f-d76b-75f4c939fbcb"
      },
      "execution_count": 11,
      "outputs": [
        {
          "output_type": "execute_result",
          "data": {
            "text/plain": [
              "(torch.Size([16, 967]),\n",
              " torch.Size([16, 21]),\n",
              " torch.Size([16, 967]),\n",
              " torch.Size([16, 21]),\n",
              " torch.Size([16]))"
            ]
          },
          "metadata": {},
          "execution_count": 11
        }
      ]
    },
    {
      "cell_type": "code",
      "source": [
        "weights_matrix.shape"
      ],
      "metadata": {
        "colab": {
          "base_uri": "https://localhost:8080/"
        },
        "id": "HHLZk2UdUtMy",
        "outputId": "e6faead1-5eb0-419c-db6d-aca9bd5609ad"
      },
      "execution_count": 12,
      "outputs": [
        {
          "output_type": "execute_result",
          "data": {
            "text/plain": [
              "(67986, 300)"
            ]
          },
          "metadata": {},
          "execution_count": 12
        }
      ]
    },
    {
      "cell_type": "markdown",
      "source": [
        "# QAT 2 Transformer Implemetation Starts Here"
      ],
      "metadata": {
        "id": "8HpiMg2fk2L0"
      }
    },
    {
      "cell_type": "code",
      "source": [
        "from torch import Tensor, nn, optim\n",
        "from tqdm import tqdm\n",
        "class QATransformer(nn.Module):\n",
        "    def __init__(\n",
        "        self,\n",
        "        num_encoder_layers: int = 2,\n",
        "        dim_model: int = 300,\n",
        "        num_heads: int = 6,\n",
        "        dim_feedforward: int = 2100,\n",
        "        dropout: float = 0.,\n",
        "        amalgamated_dim = 300,\n",
        "    ):\n",
        "        super().__init__()\n",
        "        \n",
        "        self.encoder_question = nn.TransformerEncoder(nn.TransformerEncoderLayer(d_model=dim_model, \n",
        "                                                                                nhead=num_heads, \n",
        "                                                                                dim_feedforward=dim_feedforward, \n",
        "                                                                                dropout=dropout), \n",
        "                                                                                num_layers = num_encoder_layers)\n",
        "        self.encoder_context = nn.TransformerEncoder(nn.TransformerEncoderLayer(d_model=dim_model, \n",
        "                                                                                nhead=num_heads, \n",
        "                                                                                dim_feedforward=dim_feedforward, \n",
        "                                                                                dropout=dropout), \n",
        "                                                                                num_layers = num_encoder_layers)\n",
        "        self.encoder_amalgamated = nn.TransformerEncoder(nn.TransformerEncoderLayer(d_model=dim_model, \n",
        "                                                                        nhead=num_heads, \n",
        "                                                                        dim_feedforward=dim_feedforward, \n",
        "                                                                        dropout=dropout), \n",
        "                                                                        num_layers = num_encoder_layers)\n",
        "        self.amalgmated_linear_2 = nn.Linear(dim_model, dim_feedforward)\n",
        "        # self.attention = nn.MultiheadAttention(embed_dim= dim_feedforward,\n",
        "        #                                        num_heads = num_heads,\n",
        "        #                                        dropout=dropout,\n",
        "        #                                        batch_first=True)\n",
        "\n",
        "        self.linear_1 = nn.Linear(dim_feedforward, dim_feedforward)\n",
        "        self.linear_2 = nn.Linear(amalgamated_dim*dim_feedforward, 1)\n",
        "\n",
        "    def forward(self, context: Tensor, question: Tensor) -> Tensor:\n",
        "        # print(context.type(), question.type())\n",
        "        # src = torch.hstack([context,  question])\n",
        "        question = self.encoder_question(question)\n",
        "        context = self.encoder_context(context)\n",
        "\n",
        "        amalgamated_x = torch.hstack([context, question])\n",
        "        amalgamated_x = self.encoder_amalgamated(amalgamated_x)\n",
        "        # print(amalgamated_x.shape)\n",
        "        amalgamated_x = torch.relu(self.amalgmated_linear_2(amalgamated_x))\n",
        "        amalgamated_x = torch.relu(self.linear_1(amalgamated_x))\n",
        "        amalgamated_x = amalgamated_x.flatten(1)\n",
        "        amalgamated_x = self.linear_2(amalgamated_x)\n",
        "        return torch.sigmoid(amalgamated_x).squeeze()"
      ],
      "metadata": {
        "id": "x_rwUkq2bGmx"
      },
      "execution_count": 13,
      "outputs": []
    },
    {
      "cell_type": "code",
      "source": [
        "def create_embedding_matrix(row_df, word2idx, weights_matrix):\n",
        "  context_matrix = []\n",
        "  positional_encoding= []\n",
        "  context_str= row_df[\"context\"]\n",
        "\n",
        "  question_str= row_df[\"question\"]\n",
        "\n",
        "  answer_str= row_df[\"answer\"]\n",
        "  context_word_index  = [word2idx[str(word)] for word in nlp(context_str, disable=['parser','tagger','ner'])]\n",
        "  context_matrix = weights_matrix[context_word_index]\n",
        "  question_word_index  = [word2idx[str(word)] for word in nlp(question_str, disable=['parser','tagger','ner'])]\n",
        "  question_matrix = weights_matrix[question_word_index]\n",
        "  answer_word_index  = [word2idx[str(word)] for word in nlp(answer_str, disable=['parser','tagger','ner'])]\n",
        "  answer_matrix = weights_matrix[answer_word_index]\n",
        "  return context_matrix, question_matrix, answer_matrix"
      ],
      "metadata": {
        "id": "nqgKrUAQdmLZ"
      },
      "execution_count": 14,
      "outputs": []
    },
    {
      "cell_type": "markdown",
      "source": [
        "# QAT 2 Tranformer Training"
      ],
      "metadata": {
        "id": "7lKhVexnmbEc"
      }
    },
    {
      "cell_type": "code",
      "source": [
        "import copy\n",
        "net = QATransformer(amalgamated_dim = max_passage_len+ max_question_len)\n",
        "state_dict = None\n",
        "if torch.cuda.is_available():\n",
        "  net = net.to(\"cuda\")\n",
        "optimizer = optim.Adam(net.parameters(), lr=1e-5, weight_decay=1e-6)\n",
        "criterion = nn.BCELoss()\n",
        "if torch.cuda.is_available():\n",
        "  criterion = criterion.to(\"cuda\")\n",
        "val_criterion = nn.BCELoss()\n",
        "if torch.cuda.is_available():\n",
        "  val_criterion = val_criterion.to(\"cuda\")\n",
        "loss_array = []\n",
        "acc = []\n",
        "valid_acc = []\n",
        "epochs=20\n",
        "batch_count = 0\n",
        "val_loss = []\n",
        "max_acc = -1\n",
        "for epoch in tqdm(range(epochs)):\n",
        "  running_loss = 0\n",
        "  encodings_arr = []\n",
        "  for batch in train_dataset:\n",
        "    optimizer.zero_grad()\n",
        "    context, question, context_mask, question_mask, label, ctx = batch\n",
        "\n",
        "    contexts = torch.as_tensor(weights_matrix[context]).float()\n",
        "    if torch.cuda.is_available():\n",
        "      contexts = contexts.to(\"cuda\")\n",
        "\n",
        "    questions = torch.as_tensor(weights_matrix[question]).float()\n",
        "    if torch.cuda.is_available():\n",
        "      questions = questions.to(\"cuda\")\n",
        "\n",
        "    if torch.cuda.is_available():\n",
        "      context_mask = context_mask.to(\"cuda\")\n",
        "\n",
        "    if torch.cuda.is_available():\n",
        "      question_mask = question_mask.to(\"cuda\")\n",
        "\n",
        "    label = label.float()\n",
        "    if torch.cuda.is_available():\n",
        "      label = label.to(\"cuda\")\n",
        "    encodings_arr.append((contexts, questions, label))\n",
        "    output = net(contexts, questions)\n",
        "    loss = criterion(output, label)\n",
        "    loss.backward()\n",
        "    optimizer.step()\n",
        "    running_loss+=loss.item()*output.shape[0]\n",
        "  loss_array.append(running_loss/train_df.shape[0])\n",
        "  pred = []\n",
        "  for contexts, questions, label in encodings_arr:\n",
        "    output = net(contexts, questions)\n",
        "    pred.extend((output > 0.5).float() == label)\n",
        "  pred = torch.as_tensor(pred)\n",
        "  if torch.cuda.is_available():\n",
        "      pred = pred.to(\"cuda\")\n",
        "  curr_acc = pred.float().mean()\n",
        "  acc.append(curr_acc.to(\"cpu\").item())\n",
        "  pred = []\n",
        "  val_running_loss = 0\n",
        "  for batch in valid_dataset:\n",
        "      context, question, context_mask, question_mask, label, ctx = batch\n",
        "      contexts = torch.as_tensor(weights_matrix[context]).float()\n",
        "      if torch.cuda.is_available():\n",
        "        contexts = contexts.to(\"cuda\")\n",
        "      questions = torch.as_tensor(weights_matrix[question]).float()\n",
        "      if torch.cuda.is_available():\n",
        "        questions = questions.to(\"cuda\")\n",
        "      if torch.cuda.is_available():\n",
        "        context_mask = context_mask.to(\"cuda\")\n",
        "      if torch.cuda.is_available():\n",
        "        question_mask = question_mask.to(\"cuda\")\n",
        "      label = label.float()\n",
        "      if torch.cuda.is_available():\n",
        "        label = label.to(\"cuda\")\n",
        "      encodings_arr.append((contexts, questions, label))\n",
        "      output = net(contexts, questions)\n",
        "      loss = val_criterion(output, label)\n",
        "      val_running_loss+=loss.item()*output.shape[0]\n",
        "      pred.extend((output > 0.5).float() == label)\n",
        "  pred = torch.as_tensor(pred)\n",
        "  val_loss.append(val_running_loss/valid_df.shape[0])\n",
        "  if torch.cuda.is_available():\n",
        "      pred = pred.to(\"cuda\")\n",
        "  curr_acc = pred.float().mean()\n",
        "  valid_acc.append(curr_acc.to(\"cpu\").item())\n",
        "  if(acc[-1]*valid_acc[-1] > max_acc):\n",
        "    net1 = copy.deepcopy(net)\n",
        "    net1.to('cpu')\n",
        "    max_acc = acc[-1]*valid_acc[-1]\n",
        "  torch.cuda.empty_cache()\n",
        "  print(acc[-1], loss_array[-1], valid_acc[-1],val_loss[-1])"
      ],
      "metadata": {
        "id": "Z7lqW-HtbMkt",
        "colab": {
          "base_uri": "https://localhost:8080/"
        },
        "outputId": "4130812d-1b6e-41ea-d4cc-36feefb6a576"
      },
      "execution_count": 15,
      "outputs": [
        {
          "output_type": "stream",
          "name": "stderr",
          "text": [
            "  5%|▌         | 1/20 [04:04<1:17:32, 244.89s/it]"
          ]
        },
        {
          "output_type": "stream",
          "name": "stdout",
          "text": [
            "0.621826171875 0.6850586186628789 0.6328125 0.6556639187037945\n"
          ]
        },
        {
          "output_type": "stream",
          "name": "stderr",
          "text": [
            "\r 10%|█         | 2/20 [08:10<1:13:36, 245.34s/it]"
          ]
        },
        {
          "output_type": "stream",
          "name": "stdout",
          "text": [
            "0.630126953125 0.6443657330237329 0.6328125 0.650429068133235\n"
          ]
        },
        {
          "output_type": "stream",
          "name": "stderr",
          "text": [
            "\r 15%|█▌        | 3/20 [12:15<1:09:24, 244.96s/it]"
          ]
        },
        {
          "output_type": "stream",
          "name": "stdout",
          "text": [
            "0.703369140625 0.6008364892331883 0.6328125 0.6461510024964809\n"
          ]
        },
        {
          "output_type": "stream",
          "name": "stderr",
          "text": [
            "\r 20%|██        | 4/20 [16:20<1:05:20, 245.01s/it]"
          ]
        },
        {
          "output_type": "stream",
          "name": "stdout",
          "text": [
            "0.77099609375 0.555122681427747 0.64453125 0.6403500325977802\n"
          ]
        },
        {
          "output_type": "stream",
          "name": "stderr",
          "text": [
            "\r 25%|██▌       | 5/20 [20:23<1:01:07, 244.49s/it]"
          ]
        },
        {
          "output_type": "stream",
          "name": "stdout",
          "text": [
            "0.826416015625 0.5216416163020767 0.62890625 0.6393546275794506\n"
          ]
        },
        {
          "output_type": "stream",
          "name": "stderr",
          "text": [
            "\r 30%|███       | 6/20 [24:28<57:03, 244.52s/it]  "
          ]
        },
        {
          "output_type": "stream",
          "name": "stdout",
          "text": [
            "0.863525390625 0.453929758281447 0.640625 0.6424136646091938\n"
          ]
        },
        {
          "output_type": "stream",
          "name": "stderr",
          "text": [
            "\r 35%|███▌      | 7/20 [28:31<52:55, 244.24s/it]"
          ]
        },
        {
          "output_type": "stream",
          "name": "stdout",
          "text": [
            "0.8857421875 0.39403980324277654 0.625 0.6434557214379311\n"
          ]
        },
        {
          "output_type": "stream",
          "name": "stderr",
          "text": [
            "\r 40%|████      | 8/20 [32:36<48:51, 244.26s/it]"
          ]
        },
        {
          "output_type": "stream",
          "name": "stdout",
          "text": [
            "0.887451171875 0.3553341928636655 0.6328125 0.656835300847888\n"
          ]
        },
        {
          "output_type": "stream",
          "name": "stderr",
          "text": [
            "\r 45%|████▌     | 9/20 [36:39<44:44, 244.02s/it]"
          ]
        },
        {
          "output_type": "stream",
          "name": "stdout",
          "text": [
            "0.880859375 0.34237913839751855 0.64453125 0.6819338947534561\n"
          ]
        },
        {
          "output_type": "stream",
          "name": "stderr",
          "text": [
            "\r 50%|█████     | 10/20 [40:42<40:36, 243.62s/it]"
          ]
        },
        {
          "output_type": "stream",
          "name": "stdout",
          "text": [
            "0.932861328125 0.3229795071820263 0.64453125 0.6650033537298441\n"
          ]
        },
        {
          "output_type": "stream",
          "name": "stderr",
          "text": [
            "\r 55%|█████▌    | 11/20 [44:43<36:26, 242.90s/it]"
          ]
        },
        {
          "output_type": "stream",
          "name": "stdout",
          "text": [
            "0.946044921875 0.25970355613389984 0.640625 0.6801148969680071\n"
          ]
        },
        {
          "output_type": "stream",
          "name": "stderr",
          "text": [
            "\r 60%|██████    | 12/20 [48:46<32:23, 242.94s/it]"
          ]
        },
        {
          "output_type": "stream",
          "name": "stdout",
          "text": [
            "0.962890625 0.2094168055918999 0.63671875 0.6972866952419281\n"
          ]
        },
        {
          "output_type": "stream",
          "name": "stderr",
          "text": [
            "\r 65%|██████▌   | 13/20 [52:49<28:20, 242.93s/it]"
          ]
        },
        {
          "output_type": "stream",
          "name": "stdout",
          "text": [
            "0.970703125 0.16995293376385234 0.6484375 0.7161306049674749\n"
          ]
        },
        {
          "output_type": "stream",
          "name": "stderr",
          "text": [
            "\r 70%|███████   | 14/20 [56:54<24:20, 243.41s/it]"
          ]
        },
        {
          "output_type": "stream",
          "name": "stdout",
          "text": [
            "0.978271484375 0.1394529241078999 0.6640625 0.7268780767917633\n"
          ]
        },
        {
          "output_type": "stream",
          "name": "stderr",
          "text": [
            "\r 75%|███████▌  | 15/20 [1:00:57<20:16, 243.38s/it]"
          ]
        },
        {
          "output_type": "stream",
          "name": "stdout",
          "text": [
            "0.97021484375 0.11855238477437524 0.625 0.7608713041990995\n"
          ]
        },
        {
          "output_type": "stream",
          "name": "stderr",
          "text": [
            "\r 80%|████████  | 16/20 [1:05:00<16:12, 243.13s/it]"
          ]
        },
        {
          "output_type": "stream",
          "name": "stdout",
          "text": [
            "0.924560546875 0.11448349010606762 0.56640625 0.9058087207376957\n"
          ]
        },
        {
          "output_type": "stream",
          "name": "stderr",
          "text": [
            "\r 85%|████████▌ | 17/20 [1:09:03<12:09, 243.18s/it]"
          ]
        },
        {
          "output_type": "stream",
          "name": "stdout",
          "text": [
            "0.973388671875 0.12645492466981523 0.609375 0.810894712805748\n"
          ]
        },
        {
          "output_type": "stream",
          "name": "stderr",
          "text": [
            "\r 90%|█████████ | 18/20 [1:13:08<08:07, 243.75s/it]"
          ]
        },
        {
          "output_type": "stream",
          "name": "stdout",
          "text": [
            "0.9794921875 0.10663591075717704 0.63671875 0.8356941286474466\n"
          ]
        },
        {
          "output_type": "stream",
          "name": "stderr",
          "text": [
            "\r 95%|█████████▌| 19/20 [1:17:11<04:03, 243.55s/it]"
          ]
        },
        {
          "output_type": "stream",
          "name": "stdout",
          "text": [
            "0.96630859375 0.08845835137617541 0.6484375 1.071897441521287\n"
          ]
        },
        {
          "output_type": "stream",
          "name": "stderr",
          "text": [
            "100%|██████████| 20/20 [1:21:14<00:00, 243.71s/it]"
          ]
        },
        {
          "output_type": "stream",
          "name": "stdout",
          "text": [
            "0.98974609375 0.05254205704477499 0.65234375 1.1701487619429827\n"
          ]
        },
        {
          "output_type": "stream",
          "name": "stderr",
          "text": [
            "\n"
          ]
        }
      ]
    },
    {
      "cell_type": "code",
      "source": [
        "with open(\"Train_4096.pkl\", \"wb\") as fle:\n",
        "  pickle.dump(net,fle)\n",
        "\n",
        "with open(\"Train_Loss_4096.pkl\", \"wb\") as fle:\n",
        "  pickle.dump(loss_array,fle)\n",
        "\n",
        "with open(\"Train_Acc_4096.pkl\", \"wb\") as fle:\n",
        "  pickle.dump(acc,fle)\n",
        "\n",
        "with open(\"Val_Loss_4096.pkl\", \"wb\") as fle:\n",
        "  pickle.dump(val_loss,fle)\n",
        "\n",
        "with open(\"Val_Acc_4096.pkl\", \"wb\") as fle:\n",
        "  pickle.dump(valid_acc,fle)"
      ],
      "metadata": {
        "id": "UumYVIL_NN7w"
      },
      "execution_count": 16,
      "outputs": []
    },
    {
      "cell_type": "code",
      "source": [
        "import matplotlib.pyplot as plt\n",
        "plt.plot(loss_array)\n",
        "plt.figure()\n",
        "plt.plot(acc)\n",
        "plt.figure()\n",
        "plt.plot(val_loss)\n",
        "plt.figure()\n",
        "plt.plot(valid_acc)"
      ],
      "metadata": {
        "id": "kQX71Ji3bdid",
        "colab": {
          "base_uri": "https://localhost:8080/",
          "height": 1000
        },
        "outputId": "90dbf731-86e5-4d1c-e972-ad862106c483"
      },
      "execution_count": 17,
      "outputs": [
        {
          "output_type": "execute_result",
          "data": {
            "text/plain": [
              "[<matplotlib.lines.Line2D at 0x7f14f63d7850>]"
            ]
          },
          "metadata": {},
          "execution_count": 17
        },
        {
          "output_type": "display_data",
          "data": {
            "text/plain": [
              "<Figure size 432x288 with 1 Axes>"
            ],
            "image/png": "[encoded data removed]"
          },
          "metadata": {
            "needs_background": "light"
          }
        },
        {
          "output_type": "display_data",
          "data": {
            "text/plain": [
              "<Figure size 432x288 with 1 Axes>"
            ],
            "image/png": "[encoded data removed]"
          },
          "metadata": {
            "needs_background": "light"
          }
        },
        {
          "output_type": "display_data",
          "data": {
            "text/plain": [
              "<Figure size 432x288 with 1 Axes>"
            ],
            "image/png": "[encoded data removed]"
          },
          "metadata": {
            "needs_background": "light"
          }
        },
        {
          "output_type": "display_data",
          "data": {
            "text/plain": [
              "<Figure size 432x288 with 1 Axes>"
            ],
            "image/png": "[encoded data removed]"
          },
          "metadata": {
            "needs_background": "light"
          }
        }
      ]
    },
    {
      "cell_type": "code",
      "source": [
        "print(contexts.shape, questions.shape)\n",
        "output = net(contexts, questions)"
      ],
      "metadata": {
        "id": "Qoq71fx2KiK8",
        "colab": {
          "base_uri": "https://localhost:8080/"
        },
        "outputId": "946df0d6-84b6-4dc4-84e2-8d921463cbcf"
      },
      "execution_count": 18,
      "outputs": [
        {
          "output_type": "stream",
          "name": "stdout",
          "text": [
            "torch.Size([16, 967, 300]) torch.Size([16, 21, 300])\n"
          ]
        }
      ]
    },
    {
      "cell_type": "code",
      "source": [
        "torch.no_grad()\n",
        "torch.cuda.empty_cache()"
      ],
      "metadata": {
        "id": "WH2pWquLl0Jb"
      },
      "execution_count": 19,
      "outputs": []
    },
    {
      "cell_type": "markdown",
      "source": [
        "# Testing of QAT 2 Tranformer"
      ],
      "metadata": {
        "id": "c2OpivfNmiHW"
      }
    },
    {
      "cell_type": "code",
      "source": [
        "with open(\"Train_4096.pkl\", \"rb\") as fle:\n",
        "  net  = pickle.load(fle)"
      ],
      "metadata": {
        "id": "7Y6hdmLLNt5F"
      },
      "execution_count": 20,
      "outputs": []
    },
    {
      "cell_type": "code",
      "source": [
        "pred = []\n",
        "orig_ans = []\n",
        "output_ans = []\n",
        "net1.to('cpu')\n",
        "for batch in test_dataset:\n",
        "    context, question, context_mask, question_mask, label, ctx = batch\n",
        "    contexts = torch.as_tensor(weights_matrix[context]).float()\n",
        "    if torch.cuda.is_available():\n",
        "      contexts = contexts.to(\"cuda\")\n",
        "    questions = torch.as_tensor(weights_matrix[question]).float()\n",
        "    if torch.cuda.is_available():\n",
        "      questions = questions.to(\"cuda\")\n",
        "    if torch.cuda.is_available():\n",
        "      context_mask = context_mask.to(\"cuda\")\n",
        "    if torch.cuda.is_available():\n",
        "      question_mask = question_mask.to(\"cuda\")\n",
        "    label = label.float()\n",
        "    if torch.cuda.is_available():\n",
        "      label = label.to(\"cuda\")\n",
        "    output = net(contexts, questions)\n",
        "    pred.extend((output > 0.5).float() == label)\n",
        "    orig_ans.extend(label.to('cpu'))\n",
        "    output_ans.extend((output > 0.5).float().to('cpu'))\n",
        "pred = torch.as_tensor(pred)\n",
        "if torch.cuda.is_available():\n",
        "    pred = pred.to(\"cuda\")\n",
        "curr_acc = pred.float().mean()\n",
        "curr_acc.to(\"cpu\").item()"
      ],
      "metadata": {
        "id": "vvb6tk7sHhqL",
        "colab": {
          "base_uri": "https://localhost:8080/"
        },
        "outputId": "32ed829d-7fc1-4c59-cad8-2f3b51395884"
      },
      "execution_count": 26,
      "outputs": [
        {
          "output_type": "execute_result",
          "data": {
            "text/plain": [
              "0.66796875"
            ]
          },
          "metadata": {},
          "execution_count": 26
        }
      ]
    },
    {
      "cell_type": "code",
      "source": [
        "from sklearn.metrics import f1_score\n",
        "f1_score([y_true.item() for y_true in orig_ans], [y_pred.item() for y_pred in output_ans])"
      ],
      "metadata": {
        "colab": {
          "base_uri": "https://localhost:8080/"
        },
        "id": "zjwc8yp-Tl71",
        "outputId": "5cf16d5f-9173-4ef2-de1a-ba5ad60d8a01"
      },
      "execution_count": 27,
      "outputs": [
        {
          "output_type": "execute_result",
          "data": {
            "text/plain": [
              "0.767123287671233"
            ]
          },
          "metadata": {},
          "execution_count": 27
        }
      ]
    },
    {
      "cell_type": "code",
      "source": [
        "def count_parameters(model):\n",
        "    '''Returns the number of trainable parameters in the model.'''\n",
        "    return sum(p.numel() for p in model.parameters() if p.requires_grad)\n",
        "count_parameters(net)"
      ],
      "metadata": {
        "id": "oaBTYG5nHiiU",
        "colab": {
          "base_uri": "https://localhost:8080/"
        },
        "outputId": "e8558abe-a4e0-4919-edaa-d1db1af0566c"
      },
      "execution_count": 23,
      "outputs": [
        {
          "output_type": "execute_result",
          "data": {
            "text/plain": [
              "16867801"
            ]
          },
          "metadata": {},
          "execution_count": 23
        }
      ]
    },
    {
      "cell_type": "code",
      "source": [
        "torch.cuda.empty_cache()"
      ],
      "metadata": {
        "id": "K288Y_ESkG9Y"
      },
      "execution_count": null,
      "outputs": []
    },
    {
      "cell_type": "code",
      "source": [
        "pred = pred.to(\"cpu\")\n",
        "with open(\"Test_pred.pkl\", \"wb\") as fle:\n",
        "  pickle.dump(pred,fle)"
      ],
      "metadata": {
        "id": "yvbvP6a8VBg6"
      },
      "execution_count": null,
      "outputs": []
    },
    {
      "cell_type": "markdown",
      "source": [
        "# QAT 1 Tranformer Implementation"
      ],
      "metadata": {
        "id": "FLhKQYbZmtGk"
      }
    },
    {
      "cell_type": "code",
      "source": [
        "from torch import Tensor, optim\n",
        "class BQATransformer(nn.Module):\n",
        "    def __init__(\n",
        "        self,\n",
        "        num_encoder_layers: int = 6,\n",
        "        dim_model: int = 300,\n",
        "        num_heads: int = 6,\n",
        "        dim_feedforward: int = 2100,\n",
        "        dropout: float = 0.,\n",
        "    ):\n",
        "        super().__init__()\n",
        "        \n",
        "        self.encoder = nn.TransformerEncoder(nn.TransformerEncoderLayer(d_model=dim_model, \n",
        "                                                                                nhead=num_heads, \n",
        "                                                                                dim_feedforward=dim_feedforward, \n",
        "                                                                                dropout=dropout), \n",
        "                                                                                num_layers = num_encoder_layers)\n",
        "        self.linear_layer_1 = nn.Linear(dim_model, dim_model)\n",
        "        self.linear_layer_2 = nn.Linear(dim_model, dim_model)\n",
        "        self.linear_layer_3 = nn.Linear(dim_model*989, 1)\n",
        "\n",
        "    def forward(self, embedding) -> Tensor:\n",
        "        transformer_output = self.encoder(embedding)\n",
        "        transformer_output = F.relu(self.linear_layer_1(transformer_output))\n",
        "        transformer_output = F.relu(self.linear_layer_2(transformer_output))\n",
        "        output = self.linear_layer_3(transformer_output.flatten(start_dim = 1))\n",
        "        output = output.mean(axis=1)\n",
        "        return torch.sigmoid(output).squeeze()"
      ],
      "metadata": {
        "id": "GvQ0vQ0hIXVM"
      },
      "execution_count": 14,
      "outputs": []
    },
    {
      "cell_type": "markdown",
      "source": [
        "# QAT 1 Tranformer Training"
      ],
      "metadata": {
        "id": "JQgPcqYRmyp2"
      }
    },
    {
      "cell_type": "code",
      "source": [
        "import copy\n",
        "from tqdm import tqdm\n",
        "bqa_net = BQATransformer()\n",
        "state_dict = None\n",
        "if torch.cuda.is_available():\n",
        "  bqa_net = bqa_net.to(\"cuda\")\n",
        "optimizer = optim.Adam(bqa_net.parameters(), lr=1e-5, weight_decay=1e-5)\n",
        "criterion = nn.BCELoss()\n",
        "if torch.cuda.is_available():\n",
        "  criterion = criterion.to(\"cuda\")\n",
        "val_criterion = nn.BCELoss()\n",
        "if torch.cuda.is_available():\n",
        "  val_criterion = val_criterion.to(\"cuda\")\n",
        "loss_array = []\n",
        "acc = []\n",
        "valid_acc = []\n",
        "epochs=20\n",
        "batch_count = 0\n",
        "val_loss = []\n",
        "max_acc = -1\n",
        "for epoch in tqdm(range(epochs)):\n",
        "  running_loss = 0\n",
        "  encodings_arr = []\n",
        "  for batch in train_dataset:\n",
        "    optimizer.zero_grad()\n",
        "    context, question, context_mask, question_mask, label, ctx = batch\n",
        "    context = F.pad(input=context, pad=(0, 1, 0, 0), mode='constant', value=0)\n",
        "    amalgamated = torch.hstack([context, question])\n",
        "    amalgamated = torch.as_tensor(weights_matrix[amalgamated]).float()\n",
        "    if torch.cuda.is_available():\n",
        "      amalgamated = amalgamated.to(\"cuda\")\n",
        "\n",
        "    label = label.float()\n",
        "    if torch.cuda.is_available():\n",
        "      label = label.to(\"cuda\")\n",
        "    encodings_arr.append((amalgamated, label))\n",
        "\n",
        "    output = bqa_net(amalgamated)\n",
        "    loss = criterion(output, label)\n",
        "    loss.backward()\n",
        "    optimizer.step()\n",
        "    running_loss+=loss.item()*output.shape[0]\n",
        "  loss_array.append(running_loss/train_df.shape[0])\n",
        "  pred = []\n",
        "  for amalgamated, label in encodings_arr:\n",
        "    output = bqa_net(amalgamated)\n",
        "    pred.extend((output > 0.5).float() == label)\n",
        "  pred = torch.as_tensor(pred)\n",
        "  if torch.cuda.is_available():\n",
        "      pred = pred.to(\"cuda\")\n",
        "  curr_acc = pred.float().mean()\n",
        "  acc.append(curr_acc.to(\"cpu\").item())\n",
        "  pred = []\n",
        "  val_running_loss = 0\n",
        "  for batch in valid_dataset:\n",
        "      context, question, context_mask, question_mask, label, ctx = batch\n",
        "      context = F.pad(input=context, pad=(0, 1, 0, 0), mode='constant', value=0)\n",
        "      amalgamated = torch.hstack([context, question])\n",
        "      amalgamated = torch.as_tensor(weights_matrix[amalgamated]).float()\n",
        "      if torch.cuda.is_available():\n",
        "        amalgamated = amalgamated.to(\"cuda\")\n",
        "      label = label.float()\n",
        "      if torch.cuda.is_available():\n",
        "        label = label.to(\"cuda\")\n",
        "      output = bqa_net(amalgamated)\n",
        "      loss = val_criterion(output, label)\n",
        "      val_running_loss+=loss.item()*output.shape[0]\n",
        "      pred.extend((output > 0.5).float() == label)\n",
        "  pred = torch.as_tensor(pred)\n",
        "  val_loss.append(val_running_loss/valid_df.shape[0])\n",
        "  if torch.cuda.is_available():\n",
        "      pred = pred.to(\"cuda\")\n",
        "  curr_acc = pred.float().mean()\n",
        "  valid_acc.append(curr_acc.to(\"cpu\").item())\n",
        "  if(acc[-1]*valid_acc[-1] > max_acc):\n",
        "    net1 = copy.deepcopy(bqa_net)\n",
        "    net1.to('cpu')\n",
        "    max_acc = acc[-1]*valid_acc[-1]\n",
        "  torch.cuda.empty_cache()\n",
        "  print(acc[-1], loss_array[-1], valid_acc[-1],val_loss[-1])"
      ],
      "metadata": {
        "colab": {
          "base_uri": "https://localhost:8080/"
        },
        "id": "unts_mmLa3l4",
        "outputId": "276d61ca-d856-4c6c-c910-0d8fdaa19e5e"
      },
      "execution_count": 17,
      "outputs": [
        {
          "output_type": "stream",
          "name": "stderr",
          "text": [
            "  5%|▌         | 1/20 [02:13<42:07, 133.02s/it]"
          ]
        },
        {
          "output_type": "stream",
          "name": "stdout",
          "text": [
            "0.62109375 0.6694973561679944 0.6328125 0.6568783186376095\n"
          ]
        },
        {
          "output_type": "stream",
          "name": "stderr",
          "text": [
            "\r 10%|█         | 2/20 [04:26<39:54, 133.03s/it]"
          ]
        },
        {
          "output_type": "stream",
          "name": "stdout",
          "text": [
            "0.621826171875 0.6613489901646972 0.6328125 0.6549354419112206\n"
          ]
        },
        {
          "output_type": "stream",
          "name": "stderr",
          "text": [
            "\r 15%|█▌        | 3/20 [06:39<37:41, 133.03s/it]"
          ]
        },
        {
          "output_type": "stream",
          "name": "stdout",
          "text": [
            "0.621826171875 0.6516354626510292 0.6328125 0.6534067057073116\n"
          ]
        },
        {
          "output_type": "stream",
          "name": "stderr",
          "text": [
            "\r 20%|██        | 4/20 [08:52<35:28, 133.04s/it]"
          ]
        },
        {
          "output_type": "stream",
          "name": "stdout",
          "text": [
            "0.63134765625 0.6373652388574556 0.6328125 0.6521911732852459\n"
          ]
        },
        {
          "output_type": "stream",
          "name": "stderr",
          "text": [
            "\r 25%|██▌       | 5/20 [11:05<33:15, 133.06s/it]"
          ]
        },
        {
          "output_type": "stream",
          "name": "stdout",
          "text": [
            "0.647216796875 0.6200627268990502 0.6328125 0.6534242630004883\n"
          ]
        },
        {
          "output_type": "stream",
          "name": "stderr",
          "text": [
            "\r 30%|███       | 6/20 [13:18<31:02, 133.04s/it]"
          ]
        },
        {
          "output_type": "stream",
          "name": "stdout",
          "text": [
            "0.67578125 0.6020695256302133 0.62890625 0.6514546237885952\n"
          ]
        },
        {
          "output_type": "stream",
          "name": "stderr",
          "text": [
            "\r 35%|███▌      | 7/20 [15:31<28:49, 133.07s/it]"
          ]
        },
        {
          "output_type": "stream",
          "name": "stdout",
          "text": [
            "0.701416015625 0.5853551701875404 0.6328125 0.648209348320961\n"
          ]
        },
        {
          "output_type": "stream",
          "name": "stderr",
          "text": [
            "\r 40%|████      | 8/20 [17:44<26:36, 133.06s/it]"
          ]
        },
        {
          "output_type": "stream",
          "name": "stdout",
          "text": [
            "0.7412109375 0.5571984018897638 0.62109375 0.6488030068576336\n"
          ]
        },
        {
          "output_type": "stream",
          "name": "stderr",
          "text": [
            "\r 45%|████▌     | 9/20 [19:57<24:23, 133.03s/it]"
          ]
        },
        {
          "output_type": "stream",
          "name": "stdout",
          "text": [
            "0.765625 0.5308738856110722 0.6171875 0.6498402841389179\n"
          ]
        },
        {
          "output_type": "stream",
          "name": "stderr",
          "text": [
            "\r 50%|█████     | 10/20 [22:10<22:10, 133.04s/it]"
          ]
        },
        {
          "output_type": "stream",
          "name": "stdout",
          "text": [
            "0.80859375 0.5014524790458381 0.62890625 0.6555975303053856\n"
          ]
        },
        {
          "output_type": "stream",
          "name": "stderr",
          "text": [
            "\r 55%|█████▌    | 11/20 [24:23<19:56, 132.98s/it]"
          ]
        },
        {
          "output_type": "stream",
          "name": "stdout",
          "text": [
            "0.83349609375 0.47091073280898854 0.5859375 0.6673247218132019\n"
          ]
        },
        {
          "output_type": "stream",
          "name": "stderr",
          "text": [
            "\r 60%|██████    | 12/20 [26:36<17:43, 132.99s/it]"
          ]
        },
        {
          "output_type": "stream",
          "name": "stdout",
          "text": [
            "0.851806640625 0.43485927709843963 0.58203125 0.6707995533943176\n"
          ]
        },
        {
          "output_type": "stream",
          "name": "stderr",
          "text": [
            "\r 65%|██████▌   | 13/20 [28:49<15:30, 132.97s/it]"
          ]
        },
        {
          "output_type": "stream",
          "name": "stdout",
          "text": [
            "0.857421875 0.4030555547797121 0.62109375 0.6737517789006233\n"
          ]
        },
        {
          "output_type": "stream",
          "name": "stderr",
          "text": [
            "\r 70%|███████   | 14/20 [31:02<13:17, 132.98s/it]"
          ]
        },
        {
          "output_type": "stream",
          "name": "stdout",
          "text": [
            "0.73779296875 0.37205558316782117 0.6328125 0.7963610049337149\n"
          ]
        },
        {
          "output_type": "stream",
          "name": "stderr",
          "text": [
            "\r 75%|███████▌  | 15/20 [33:15<11:04, 132.98s/it]"
          ]
        },
        {
          "output_type": "stream",
          "name": "stdout",
          "text": [
            "0.756591796875 0.3496000249288045 0.640625 0.8408646117895842\n"
          ]
        },
        {
          "output_type": "stream",
          "name": "stderr",
          "text": [
            "\r 80%|████████  | 16/20 [35:28<08:52, 133.01s/it]"
          ]
        },
        {
          "output_type": "stream",
          "name": "stdout",
          "text": [
            "0.87744140625 0.31423314072890207 0.625 0.7522637937217951\n"
          ]
        },
        {
          "output_type": "stream",
          "name": "stderr",
          "text": [
            "\r 85%|████████▌ | 17/20 [37:41<06:39, 133.02s/it]"
          ]
        },
        {
          "output_type": "stream",
          "name": "stdout",
          "text": [
            "0.9443359375 0.2672156378393993 0.58984375 0.7391560133546591\n"
          ]
        },
        {
          "output_type": "stream",
          "name": "stderr",
          "text": [
            "\r 90%|█████████ | 18/20 [39:54<04:26, 133.03s/it]"
          ]
        },
        {
          "output_type": "stream",
          "name": "stdout",
          "text": [
            "0.9521484375 0.21931213562493213 0.578125 0.7745021171867847\n"
          ]
        },
        {
          "output_type": "stream",
          "name": "stderr",
          "text": [
            "\r 95%|█████████▌| 19/20 [42:07<02:13, 133.01s/it]"
          ]
        },
        {
          "output_type": "stream",
          "name": "stdout",
          "text": [
            "0.9521484375 0.1769326615612954 0.55859375 0.8374188095331192\n"
          ]
        },
        {
          "output_type": "stream",
          "name": "stderr",
          "text": [
            "100%|██████████| 20/20 [44:20<00:00, 133.02s/it]"
          ]
        },
        {
          "output_type": "stream",
          "name": "stdout",
          "text": [
            "0.95751953125 0.13645331290899776 0.57421875 0.903865821659565\n"
          ]
        },
        {
          "output_type": "stream",
          "name": "stderr",
          "text": [
            "\n"
          ]
        }
      ]
    },
    {
      "cell_type": "code",
      "source": [
        "with open(\"G_BQAT_Train_4096.pkl\", \"wb\") as fle:\n",
        "  pickle.dump(bqa_net,fle)\n",
        "\n",
        "with open(\"G_BQAT_Train_Loss_4096.pkl\", \"wb\") as fle:\n",
        "  pickle.dump(loss_array,fle)\n",
        "\n",
        "with open(\"G_BQAT_Train_Acc_4096.pkl\", \"wb\") as fle:\n",
        "  pickle.dump(acc,fle)\n",
        "\n",
        "with open(\"G_BQAT_Val_Loss_4096.pkl\", \"wb\") as fle:\n",
        "  pickle.dump(val_loss,fle)\n",
        "\n",
        "with open(\"G_BQAT_Val_Acc_4096.pkl\", \"wb\") as fle:\n",
        "  pickle.dump(valid_acc,fle)"
      ],
      "metadata": {
        "id": "fCN7K6lWdq7w"
      },
      "execution_count": 20,
      "outputs": []
    },
    {
      "cell_type": "code",
      "source": [
        "torch.no_grad()\n",
        "torch.cuda.empty_cache()"
      ],
      "metadata": {
        "id": "xr9whSozVL52"
      },
      "execution_count": 32,
      "outputs": []
    },
    {
      "cell_type": "markdown",
      "source": [
        "#QAT 1 Tranformer Testing"
      ],
      "metadata": {
        "id": "XgFXdtn3m3iG"
      }
    },
    {
      "cell_type": "code",
      "source": [
        "pred = []\n",
        "orig_ans = []\n",
        "output_ans = []\n",
        "net1.to('cpu')\n",
        "for batch in test_dataset:\n",
        "    context, question, context_mask, question_mask, label, ctx = batch\n",
        "    context = F.pad(input=context, pad=(0, 1, 0, 0), mode='constant', value=0)\n",
        "    amalgamated = torch.hstack([context, question])\n",
        "    amalgamated = torch.as_tensor(weights_matrix[amalgamated]).float()\n",
        "    if torch.cuda.is_available():\n",
        "      amalgamated = amalgamated.to(\"cuda\")\n",
        "    label = label.float()\n",
        "    if torch.cuda.is_available():\n",
        "      label = label.to(\"cuda\")\n",
        "    output = net1(amalgamated)\n",
        "    loss = criterion(output, label)\n",
        "    pred.extend((output > 0.5).float() == label)\n",
        "    orig_ans.extend(label.to('cpu'))\n",
        "    output_ans.extend((output > 0.5).float().to('cpu'))\n",
        "pred = torch.as_tensor(pred)\n",
        "if torch.cuda.is_available():\n",
        "    pred = pred.to(\"cuda\")\n",
        "curr_acc = pred.float().mean()\n",
        "curr_acc.to(\"cpu\").item()"
      ],
      "metadata": {
        "colab": {
          "base_uri": "https://localhost:8080/"
        },
        "outputId": "2066cbaa-a3c5-499c-f173-77ef5c27f13a",
        "id": "CxKUpPSbVL57"
      },
      "execution_count": 33,
      "outputs": [
        {
          "output_type": "execute_result",
          "data": {
            "text/plain": [
              "0.6328125"
            ]
          },
          "metadata": {},
          "execution_count": 33
        }
      ]
    },
    {
      "cell_type": "code",
      "source": [
        "from sklearn.metrics import f1_score\n",
        "f1_score([y_true.item() for y_true in orig_ans], [y_pred.item() for y_pred in output_ans])"
      ],
      "metadata": {
        "colab": {
          "base_uri": "https://localhost:8080/"
        },
        "outputId": "34e66527-bf0c-4518-b006-62669160bdc2",
        "id": "fbJcRXgVVL58"
      },
      "execution_count": 34,
      "outputs": [
        {
          "output_type": "execute_result",
          "data": {
            "text/plain": [
              "0.7168674698795181"
            ]
          },
          "metadata": {},
          "execution_count": 34
        }
      ]
    }
  ]
}